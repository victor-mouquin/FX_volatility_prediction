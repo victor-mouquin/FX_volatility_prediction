{
 "cells": [
  {
   "cell_type": "code",
   "execution_count": null,
   "metadata": {},
   "outputs": [],
   "source": [
    "import numpy as np\n",
    "import matplotlib.pyplot as plt \n",
    "import pandas as pd"
   ]
  },
  {
   "cell_type": "markdown",
   "metadata": {},
   "source": [
    "<h1> Transition matrices and regimes ratios distribution </h1>"
   ]
  },
  {
   "cell_type": "markdown",
   "metadata": {},
   "source": [
    "Recall we are looking at the number of ticks per minute, and that we defined three regimes of volatilty by separating the number of ticks by tersiles. In particular this notion of volatility regimes is time dependent. <br/>\n",
    "\n",
    "In this notebook we are going to study the effect known events have on the volatility regimes. We will only be looking at events predicted as being of type \"3\".  <br/>\n",
    "\n",
    "The data used in the code are of two types: <br/>\n",
    "- csv files of the volatility regime in every minute of every year;\n",
    "- a csv file with the day number of every event, and another csv file with the minute of the day when said event happened.\n",
    "\n",
    "I was not responsible for generating these datas! Yicheng and Yifan gave me the files with the day and minutes of the known events. Sebastian gave me some of the volatility regime data."
   ]
  },
  {
   "cell_type": "markdown",
   "metadata": {},
   "source": [
    "<h1> The functions </h1>"
   ]
  },
  {
   "cell_type": "markdown",
   "metadata": {},
   "source": [
    "<h3> Data processing </h3>"
   ]
  },
  {
   "cell_type": "markdown",
   "metadata": {},
   "source": [
    "We need to merge the dataframes of the day number and minute number of events. "
   ]
  },
  {
   "cell_type": "code",
   "execution_count": null,
   "metadata": {},
   "outputs": [],
   "source": [
    "def event_time(row_csv, col_csv):\n",
    "    \"\"\"\n",
    "    Creates a DataFrame where each row corresponds to the time of an event. First column is day number, \n",
    "    second is time of day.\n",
    "    row_csv and col_csv are strings.\n",
    "    \"\"\"\n",
    "    row = pd.read_csv(row_csv)\n",
    "    col = pd.read_csv(col_csv)\n",
    "    row.drop(row.columns[0],axis = 1, inplace=True)   \n",
    "    col.drop(col.columns[0],axis = 1, inplace=True) \n",
    "    row.rename(columns = {'x':'day'}, inplace=True)\n",
    "    col.rename(columns = {'x':'minute'}, inplace=True)\n",
    "    event_times = pd.concat([row, col], axis=1)\n",
    "    return event_times"
   ]
  },
  {
   "cell_type": "markdown",
   "metadata": {},
   "source": [
    "<h2> Transition matrices </h2>"
   ]
  },
  {
   "cell_type": "markdown",
   "metadata": {},
   "source": [
    "For every day $k$ and every minute $t$, let $\\lambda^k_t$ be the intensity of ticks return during minute $t$ of day $k$. We associate to $\\lambda^k_t$ a volatility regime $\\Lambda^k_t \\in \\{1,2,3\\}$, by looking between which tersile $\\lambda^k_t$ falls. <br/>\n",
    "\n",
    "We then compute the transition matrices between these volatility regimes. "
   ]
  },
  {
   "cell_type": "markdown",
   "metadata": {},
   "source": [
    "First we compute the unconditioned transition matrices,  that is \n",
    "\\begin{align*}\n",
    "(A_u)_{ij} & = \\frac{(a_u)_{ij}}{\\sum_j (a_u)_{ij}}, \\hspace{2cm} \\text{where}   \\\\\n",
    "(a_u)_{ij} & = \\sum_{t,k}1_{\\Lambda^k_t = i, \\: \\Lambda^k_{t+u}=j},\n",
    "\\end{align*}\n",
    "where we sum over all the minutes $t$ in a day, and all the days $k$ in the sample. "
   ]
  },
  {
   "cell_type": "code",
   "execution_count": null,
   "metadata": {},
   "outputs": [],
   "source": [
    "def uncond_trans_mat(regime_val, u, N=3):\n",
    "    \"\"\"\n",
    "    Unconditioned transition matrix between volatility regimes\n",
    "    ##################\n",
    "    N (int): number of volatility regimes.\n",
    "    regime_val (DataFrame): rows are days, columns are minutes of the day, values are the volatility regime.\n",
    "    u (int): we compute transition matrix between regimes happening between times t and u+t.    \n",
    "    \"\"\"\n",
    "    A = np.zeros((N,N))\n",
    "    regime_val = regime.values\n",
    "    for row in range(regime_val.shape[0]):\n",
    "        for time in range(regime_val.shape[1]-u):\n",
    "            for i in range(N):\n",
    "                for j in range(N):\n",
    "                    if regime_val[row,time] == i+1.0 and regime_val[row,time+u] == j+1.0:\n",
    "                        A[i,j] = A[i,j]+1\n",
    "    result = A/A.sum(axis=1).reshape(-1,1)\n",
    "    return np.around(result,2) #Rounding the result to two decimals"
   ]
  },
  {
   "cell_type": "markdown",
   "metadata": {},
   "source": [
    "Then we compute the conditioned transition matrices, that is \n",
    "\\begin{align*}\n",
    "(B_{u_1, u_2})_{ij} & = \\frac{(b_{u_1, u_2})_{ij}}{\\sum_j (b_{u_1,u_2})_{ij}}   \\\\\n",
    "(b_{u_1,u_2})_{ij} & = \\sum_{n}1_{\\Lambda^{k_n}_{t_n-u_1} = i, \\: \\Lambda^{k_n}_{t_n+u_2}=j},\n",
    "\\end{align*}\n",
    "where $n$ runs over the number of events."
   ]
  },
  {
   "cell_type": "code",
   "execution_count": null,
   "metadata": {},
   "outputs": [],
   "source": [
    "def trans_mat(event_time, regime, u1, u2, N=3):\n",
    "    \"\"\"\n",
    "    (Conditioned) transition matrix between volatilty regimes\n",
    "    #########################\n",
    "    N (int): number of volatility regimes.\n",
    "    event_time_np ((-1,2) DataFrame): day and minute of events.\n",
    "    regime (DataFrame): rows are days, columns are minutes of the day, values are the volatility regime.\n",
    "    u_1, u_2 (int): we compute transition matrix between regimes happening u1 minutes before and u2 minutes \n",
    "                    after each events.\n",
    "    \"\"\"\n",
    "    A = np.zeros((N,N))\n",
    "    event_time_np = event_time.values\n",
    "    regime_val = regime.values\n",
    "    for event in range(event_time_np.shape[0]):\n",
    "        day = int(event_time_np[event,0])-1 #In the data set days are numbered starting at 1\n",
    "        for i in range(N):\n",
    "            for j in range(N):\n",
    "                time = int(event_time_np[event,1])-1 #In the data set minutes are numbered starting at 1\n",
    "                if not time+u2 > regime_val.shape[1]-1 and not time-u1 <0:\n",
    "                    if regime_val[day,time-u1] == float(i)+1 and regime_val[day,time+u2] == float(j)+1:\n",
    "                        A[i,j] = A[i,j]+1\n",
    "    result = A/A.sum(axis=1).reshape(-1,1)\n",
    "    return np.around(result,2) #Rounding the result to two decimals"
   ]
  },
  {
   "cell_type": "markdown",
   "metadata": {},
   "source": [
    "<h2> Regime ratios distributions </h2>"
   ]
  },
  {
   "cell_type": "markdown",
   "metadata": {},
   "source": [
    "We compute on average how the ratios of regimes are distributed. By definition of the regimes, in theory we are in any given regime 1/3 of the time."
   ]
  },
  {
   "cell_type": "code",
   "execution_count": null,
   "metadata": {},
   "outputs": [],
   "source": [
    "def uncond_vol_regime(regime):\n",
    "    \"\"\"\n",
    "    Given a DataFrame \"regime\", computes the average (unconditioned) regime ratio distribution\n",
    "    \"\"\"\n",
    "    regime_np = regime.values\n",
    "    A = np.zeros(3)\n",
    "    for n in range(3):\n",
    "        A[n] = (regime_np ==float(n)+1).sum()\n",
    "    return A/A.sum()"
   ]
  },
  {
   "cell_type": "markdown",
   "metadata": {},
   "source": [
    "We look at how the ratios of regimes were distributed $u$ minutes before/after an event in average. "
   ]
  },
  {
   "cell_type": "code",
   "execution_count": null,
   "metadata": {},
   "outputs": [],
   "source": [
    "def vol_regimes(event_times, regime, u):\n",
    "    \"\"\"\n",
    "    event_time_np ((-1,2) DataFrame): day and minute of events.\n",
    "    regime (DataFrame): rows are days, columns are minutes of the day, values are the volatility regime.\n",
    "    u (int): relative integer\n",
    "    For every event, look at which volatility regime we were u minutes before/after (depends on sign of u).\n",
    "    \"\"\"\n",
    "    event_times_np = event_times.values\n",
    "    regime_val = regime.values\n",
    "    vol_regimes = np.array([0,0,0])\n",
    "    for event in range(event_times_np.shape[0]):\n",
    "        day = int(event_times_np[event, 0])-1 #In the data set days are numbered starting at 1\n",
    "        time = int(event_times_np[event, 1])-1 #In the data set minutes are numbered starting at 1\n",
    "        if not time+u > regime_val.shape[1]-1: \n",
    "            for n in range(3):\n",
    "                if regime_val[day, time + u] == float(n)+1:\n",
    "                    vol_regimes[n] = vol_regimes[n]+1\n",
    "    \n",
    "    vol_regimes =  vol_regimes/vol_regimes.sum()\n",
    "    return vol_regimes"
   ]
  },
  {
   "cell_type": "markdown",
   "metadata": {},
   "source": [
    "Then we plot how these ratios changed from $t$ minutes before, to $t$ minutes after an event in average. "
   ]
  },
  {
   "cell_type": "code",
   "execution_count": null,
   "metadata": {},
   "outputs": [],
   "source": [
    "def regime_ratio(event_times, regime, t):\n",
    "    \"\"\"\n",
    "    event_times: DataFrame\n",
    "    regime: Dataframe\n",
    "    t: int\n",
    "    Plots the average distribution of regime ratios from t-1 minutes before to t-1 minutes after an event.\n",
    "    \"\"\"\n",
    "    dist_before = vol_regimes(event_times, regime, 0)\n",
    "    for minute in range(1,t):\n",
    "        vol_reg = vol_regimes(event_times, regime, -minute)\n",
    "        dist_before = np.vstack((dist_before,vol_reg))\n",
    "    H_minus = np.fliplr(dist_before.transpose())\n",
    "    \n",
    "    dist_after = vol_regimes(event_times, regime, 1).reshape(1,-1)\n",
    "    for minute in range(2,t):\n",
    "        vol_reg = vol_regimes(event_times, regime, minute)\n",
    "        dist_after = np.vstack((dist_after,vol_reg))\n",
    "    H_plus = dist_after.transpose()\n",
    "    \n",
    "    H = np.hstack((H_minus, H_plus))\n",
    "    for n in range(3):\n",
    "        plt.plot(np.linspace(-t,t,2*t-1),H[n,:])\n",
    "        \n",
    "    plt.legend(['low', 'medium', 'high'], loc = 2)\n",
    "\n",
    "    return H.shape"
   ]
  },
  {
   "cell_type": "markdown",
   "metadata": {},
   "source": [
    "<h1> The Data </h1>"
   ]
  },
  {
   "cell_type": "markdown",
   "metadata": {},
   "source": [
    "<h3> 2017 </h3>"
   ]
  },
  {
   "cell_type": "markdown",
   "metadata": {},
   "source": [
    "<b> The events </b>"
   ]
  },
  {
   "cell_type": "code",
   "execution_count": null,
   "metadata": {},
   "outputs": [],
   "source": [
    "event_times = event_time('row_regime3.csv', 'col_regime3.csv')\n",
    "event_times.head()"
   ]
  },
  {
   "cell_type": "markdown",
   "metadata": {},
   "source": [
    "<b> The regimes </b>"
   ]
  },
  {
   "cell_type": "code",
   "execution_count": null,
   "metadata": {},
   "outputs": [],
   "source": [
    "regime = pd.read_csv('regimes_1minute.csv')\n",
    "regime.head()"
   ]
  },
  {
   "cell_type": "code",
   "execution_count": null,
   "metadata": {},
   "outputs": [],
   "source": [
    "A1 = uncond_trans_mat(regime, 1)\n",
    "A2 = uncond_trans_mat(regime, 2)\n",
    "A3 = uncond_trans_mat(regime, 3)"
   ]
  },
  {
   "cell_type": "code",
   "execution_count": null,
   "metadata": {},
   "outputs": [],
   "source": [
    "B01 = trans_mat(event_times, regime, 0,1)\n",
    "B11 = trans_mat(event_times, regime, 1,1)\n",
    "B12 = trans_mat(event_times, regime, 1, 2)"
   ]
  },
  {
   "cell_type": "code",
   "execution_count": null,
   "metadata": {},
   "outputs": [],
   "source": [
    "print('Unconditioned matrix t->t+1')\n",
    "print(A1)\n",
    "print('Transition matrix during event and 1 minute after')\n",
    "print(B01)\n",
    "print('Unconditioned matrix t->t+2')\n",
    "print(A2)\n",
    "print('Transition matrix 1 minute before event and 1 minute after')\n",
    "print(B11)\n",
    "print('Unconditioned matrix t->t+3')\n",
    "print(A3)\n",
    "print('Transition matrix 1 minute before event and 2 minute after')\n",
    "print(B12)"
   ]
  },
  {
   "cell_type": "code",
   "execution_count": null,
   "metadata": {},
   "outputs": [],
   "source": []
  },
  {
   "cell_type": "code",
   "execution_count": null,
   "metadata": {},
   "outputs": [],
   "source": [
    "uncond_vol_regime(regime)"
   ]
  },
  {
   "cell_type": "code",
   "execution_count": null,
   "metadata": {},
   "outputs": [],
   "source": [
    "regime_ratio(event_times, regime, 5)#Plot regime ratios from 5 minutes before, to 5 minutes after an event in average. "
   ]
  },
  {
   "cell_type": "code",
   "execution_count": null,
   "metadata": {},
   "outputs": [],
   "source": [
    "regime_ratio(event_times, regime, 30)"
   ]
  },
  {
   "cell_type": "code",
   "execution_count": null,
   "metadata": {},
   "outputs": [],
   "source": []
  },
  {
   "cell_type": "code",
   "execution_count": null,
   "metadata": {},
   "outputs": [],
   "source": []
  },
  {
   "cell_type": "code",
   "execution_count": null,
   "metadata": {},
   "outputs": [],
   "source": []
  },
  {
   "cell_type": "markdown",
   "metadata": {},
   "source": [
    "<h3>2013 to 2017 </h3>"
   ]
  },
  {
   "cell_type": "markdown",
   "metadata": {},
   "source": [
    "<b> The events </b>"
   ]
  },
  {
   "cell_type": "code",
   "execution_count": null,
   "metadata": {},
   "outputs": [],
   "source": [
    "event_times = event_time('row2013-2017.csv', 'col2013-2017.csv')\n",
    "event_times.head()"
   ]
  },
  {
   "cell_type": "markdown",
   "metadata": {},
   "source": [
    "<b> The regimes </b>"
   ]
  },
  {
   "cell_type": "code",
   "execution_count": null,
   "metadata": {},
   "outputs": [],
   "source": [
    "regime = pd.read_csv('Regimes2013-2017.csv')\n",
    "regime.head()"
   ]
  },
  {
   "cell_type": "code",
   "execution_count": null,
   "metadata": {},
   "outputs": [],
   "source": [
    "A1 = uncond_trans_mat(regime, 1)\n",
    "A2 = uncond_trans_mat(regime, 2)\n",
    "A3 = uncond_trans_mat(regime, 3)"
   ]
  },
  {
   "cell_type": "code",
   "execution_count": null,
   "metadata": {},
   "outputs": [],
   "source": [
    "B01 = trans_mat(event_times, regime, 0,1)\n",
    "B11 = trans_mat(event_times, regime, 1,1)\n",
    "B12 = trans_mat(event_times, regime, 1, 2)"
   ]
  },
  {
   "cell_type": "code",
   "execution_count": null,
   "metadata": {},
   "outputs": [],
   "source": [
    "print('Unconditioned matrix t->t+1')\n",
    "print(A1)\n",
    "print('Transition matrix during event and 1 minute after')\n",
    "print(B01)\n",
    "print('Unconditioned matrix t->t+2')\n",
    "print(A2)\n",
    "print('Transition matrix 1 minute before event and 1 minute after')\n",
    "print(B11)\n",
    "print('Unconditioned matrix t->t+3')\n",
    "print(A3)\n",
    "print('Transition matrix 1 minute before event and 2 minute after')\n",
    "print(B12)"
   ]
  },
  {
   "cell_type": "markdown",
   "metadata": {},
   "source": [
    "<b> Remark  </b>"
   ]
  },
  {
   "cell_type": "code",
   "execution_count": null,
   "metadata": {},
   "outputs": [],
   "source": [
    "print('A1^2 =')\n",
    "print(np.around(np.linalg.matrix_power(A1, 2),2))\n",
    "print('A1^3=')\n",
    "print(np.around(np.linalg.matrix_power(A1, 3),2))"
   ]
  },
  {
   "cell_type": "markdown",
   "metadata": {},
   "source": [
    "We see that the transitions between regimes seems to be very far from being a Markov process. "
   ]
  },
  {
   "cell_type": "code",
   "execution_count": null,
   "metadata": {},
   "outputs": [],
   "source": []
  },
  {
   "cell_type": "code",
   "execution_count": null,
   "metadata": {},
   "outputs": [],
   "source": [
    "uncond_vol_regime(regime)"
   ]
  },
  {
   "cell_type": "code",
   "execution_count": null,
   "metadata": {},
   "outputs": [],
   "source": [
    "regime_ratio(event_times, regime, 5)"
   ]
  },
  {
   "cell_type": "markdown",
   "metadata": {},
   "source": [
    "We see that volatility is high in the minutes prior to an event. But volatility indeed seems to drop 1-2 minutes prior to an event, as the player wait for the information, and picks up steam 1-2 minutes after the event. "
   ]
  },
  {
   "cell_type": "code",
   "execution_count": null,
   "metadata": {},
   "outputs": [],
   "source": [
    "regime_ratio(event_times, regime, 15)"
   ]
  },
  {
   "cell_type": "code",
   "execution_count": null,
   "metadata": {},
   "outputs": [],
   "source": [
    "regime_ratio(event_times, regime, 50)"
   ]
  },
  {
   "cell_type": "code",
   "execution_count": null,
   "metadata": {},
   "outputs": [],
   "source": [
    "regime_ratio(event_times, regime, 70)"
   ]
  },
  {
   "cell_type": "markdown",
   "metadata": {},
   "source": [
    "It seems to take around 30 minutes after and event for the market to stabilize. "
   ]
  },
  {
   "cell_type": "code",
   "execution_count": null,
   "metadata": {},
   "outputs": [],
   "source": []
  }
 ],
 "metadata": {
  "kernelspec": {
   "display_name": "Python 3",
   "language": "python",
   "name": "python3"
  },
  "language_info": {
   "codemirror_mode": {
    "name": "ipython",
    "version": 3
   },
   "file_extension": ".py",
   "mimetype": "text/x-python",
   "name": "python",
   "nbconvert_exporter": "python",
   "pygments_lexer": "ipython3",
   "version": "3.6.0"
  }
 },
 "nbformat": 4,
 "nbformat_minor": 2
}
